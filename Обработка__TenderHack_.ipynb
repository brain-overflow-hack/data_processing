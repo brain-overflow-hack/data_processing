{
  "cells": [
    {
      "cell_type": "code",
      "source": [
        "import pandas as pd\n",
        "import numpy as np\n",
        "import matplotlib.pyplot as plt\n",
        "import seaborn as sns\n",
        "from google.colab import drive\n",
        "from google.colab import files\n",
        "drive.mount('/content/drive/')"
      ],
      "metadata": {
        "colab": {
          "base_uri": "https://localhost:8080/"
        },
        "id": "UGgoMEfjdKYl",
        "outputId": "7100378a-e0e0-45e2-946d-5d78c6cc3a79"
      },
      "execution_count": 1,
      "outputs": [
        {
          "output_type": "stream",
          "name": "stdout",
          "text": [
            "Mounted at /content/drive/\n"
          ]
        }
      ]
    },
    {
      "cell_type": "code",
      "source": [
        "FILE_LINKS = {'companies': '/content/drive/MyDrive/TenderHack/companies.csv',\n",
        "              'contracts': '/content/drive/MyDrive/TenderHack/contracts.csv',\n",
        "              'participants': '/content/drive/MyDrive/TenderHack/participants.csv',\n",
        "              'purchases': '/content/drive/MyDrive/TenderHack/purchases.csv'}"
      ],
      "metadata": {
        "id": "sZvaTYfRdO1H"
      },
      "execution_count": 4,
      "outputs": []
    },
    {
      "cell_type": "code",
      "source": [
        "df_contracts = pd.read_csv(FILE_LINKS['contracts'], sep=';')\n",
        "df_contracts['contract_conclusion_date'][df_contracts.contract_conclusion_date <= '2017-01-01'] = np.nan\n",
        "df_contracts = df_contracts.dropna(subset=['contract_conclusion_date'])\n",
        "df_contracts.reset_index(drop=True, inplace=True)\n",
        "df_contracts = df_contracts.drop(np.where(df_contracts['price'] <= 1)[0])"
      ],
      "metadata": {
        "colab": {
          "base_uri": "https://localhost:8080/"
        },
        "id": "icLmPjwjYMKD",
        "outputId": "ae3a4ece-91ef-4b2b-df5d-28367ae2f974"
      },
      "execution_count": null,
      "outputs": [
        {
          "output_type": "stream",
          "name": "stderr",
          "text": [
            "<ipython-input-17-4d51d21da7d4>:3: SettingWithCopyWarning: \n",
            "A value is trying to be set on a copy of a slice from a DataFrame\n",
            "\n",
            "See the caveats in the documentation: https://pandas.pydata.org/pandas-docs/stable/user_guide/indexing.html#returning-a-view-versus-a-copy\n",
            "  df_contracts['contract_conclusion_date'][df_contracts.contract_conclusion_date <= '2017-01-01'] = np.nan\n"
          ]
        }
      ]
    },
    {
      "cell_type": "code",
      "source": [
        "df_contracts.to_json('contracts.json', orient='records')"
      ],
      "metadata": {
        "id": "YSjTYJCWbFPz"
      },
      "execution_count": null,
      "outputs": []
    },
    {
      "cell_type": "code",
      "source": [
        "df_participants = pd.read_csv(FILE_LINKS['participants'], sep=';')\n",
        "df_participants.head()\n",
        "df_winner = df_participants[df_participants['is_winner'] == 'Да']\n",
        "df_loser = df_participants[df_participants['is_winner'] == 'Нет']\n",
        "df_participants = pd.concat([df_winner, df_loser])\n",
        "df_participants.drop_duplicates(subset=['id', 'supplier_inn'])"
      ],
      "metadata": {
        "colab": {
          "base_uri": "https://localhost:8080/",
          "height": 423
        },
        "id": "kgtMUrcCd7J3",
        "outputId": "5760e5df-548e-421a-be67-ed00ba3bf18f"
      },
      "execution_count": 11,
      "outputs": [
        {
          "output_type": "execute_result",
          "data": {
            "text/plain": [
              "                    id  supplier_inn is_winner\n",
              "0        purch_9128253   10101705645        Да\n",
              "1        purch_3909994   10101705645        Да\n",
              "2        purch_3911066   10101705645        Да\n",
              "3        purch_3911237   10101705645        Да\n",
              "4        purch_3916302   10101705645        Да\n",
              "...                ...           ...       ...\n",
              "1756319  purch_9139871  990103133808       Нет\n",
              "1756320  purch_9226742  990103133808       Нет\n",
              "1756321  purch_9228333  990103133808       Нет\n",
              "1756324  purch_8992052  990116467452       Нет\n",
              "1756325  purch_8946188  990199065793       Нет\n",
              "\n",
              "[1756326 rows x 3 columns]"
            ],
            "text/html": [
              "\n",
              "  <div id=\"df-41db1ca5-69a9-4de6-a740-9ce02d780f51\">\n",
              "    <div class=\"colab-df-container\">\n",
              "      <div>\n",
              "<style scoped>\n",
              "    .dataframe tbody tr th:only-of-type {\n",
              "        vertical-align: middle;\n",
              "    }\n",
              "\n",
              "    .dataframe tbody tr th {\n",
              "        vertical-align: top;\n",
              "    }\n",
              "\n",
              "    .dataframe thead th {\n",
              "        text-align: right;\n",
              "    }\n",
              "</style>\n",
              "<table border=\"1\" class=\"dataframe\">\n",
              "  <thead>\n",
              "    <tr style=\"text-align: right;\">\n",
              "      <th></th>\n",
              "      <th>id</th>\n",
              "      <th>supplier_inn</th>\n",
              "      <th>is_winner</th>\n",
              "    </tr>\n",
              "  </thead>\n",
              "  <tbody>\n",
              "    <tr>\n",
              "      <th>0</th>\n",
              "      <td>purch_9128253</td>\n",
              "      <td>10101705645</td>\n",
              "      <td>Да</td>\n",
              "    </tr>\n",
              "    <tr>\n",
              "      <th>1</th>\n",
              "      <td>purch_3909994</td>\n",
              "      <td>10101705645</td>\n",
              "      <td>Да</td>\n",
              "    </tr>\n",
              "    <tr>\n",
              "      <th>2</th>\n",
              "      <td>purch_3911066</td>\n",
              "      <td>10101705645</td>\n",
              "      <td>Да</td>\n",
              "    </tr>\n",
              "    <tr>\n",
              "      <th>3</th>\n",
              "      <td>purch_3911237</td>\n",
              "      <td>10101705645</td>\n",
              "      <td>Да</td>\n",
              "    </tr>\n",
              "    <tr>\n",
              "      <th>4</th>\n",
              "      <td>purch_3916302</td>\n",
              "      <td>10101705645</td>\n",
              "      <td>Да</td>\n",
              "    </tr>\n",
              "    <tr>\n",
              "      <th>...</th>\n",
              "      <td>...</td>\n",
              "      <td>...</td>\n",
              "      <td>...</td>\n",
              "    </tr>\n",
              "    <tr>\n",
              "      <th>1756319</th>\n",
              "      <td>purch_9139871</td>\n",
              "      <td>990103133808</td>\n",
              "      <td>Нет</td>\n",
              "    </tr>\n",
              "    <tr>\n",
              "      <th>1756320</th>\n",
              "      <td>purch_9226742</td>\n",
              "      <td>990103133808</td>\n",
              "      <td>Нет</td>\n",
              "    </tr>\n",
              "    <tr>\n",
              "      <th>1756321</th>\n",
              "      <td>purch_9228333</td>\n",
              "      <td>990103133808</td>\n",
              "      <td>Нет</td>\n",
              "    </tr>\n",
              "    <tr>\n",
              "      <th>1756324</th>\n",
              "      <td>purch_8992052</td>\n",
              "      <td>990116467452</td>\n",
              "      <td>Нет</td>\n",
              "    </tr>\n",
              "    <tr>\n",
              "      <th>1756325</th>\n",
              "      <td>purch_8946188</td>\n",
              "      <td>990199065793</td>\n",
              "      <td>Нет</td>\n",
              "    </tr>\n",
              "  </tbody>\n",
              "</table>\n",
              "<p>1756326 rows × 3 columns</p>\n",
              "</div>\n",
              "      <button class=\"colab-df-convert\" onclick=\"convertToInteractive('df-41db1ca5-69a9-4de6-a740-9ce02d780f51')\"\n",
              "              title=\"Convert this dataframe to an interactive table.\"\n",
              "              style=\"display:none;\">\n",
              "        \n",
              "  <svg xmlns=\"http://www.w3.org/2000/svg\" height=\"24px\"viewBox=\"0 0 24 24\"\n",
              "       width=\"24px\">\n",
              "    <path d=\"M0 0h24v24H0V0z\" fill=\"none\"/>\n",
              "    <path d=\"M18.56 5.44l.94 2.06.94-2.06 2.06-.94-2.06-.94-.94-2.06-.94 2.06-2.06.94zm-11 1L8.5 8.5l.94-2.06 2.06-.94-2.06-.94L8.5 2.5l-.94 2.06-2.06.94zm10 10l.94 2.06.94-2.06 2.06-.94-2.06-.94-.94-2.06-.94 2.06-2.06.94z\"/><path d=\"M17.41 7.96l-1.37-1.37c-.4-.4-.92-.59-1.43-.59-.52 0-1.04.2-1.43.59L10.3 9.45l-7.72 7.72c-.78.78-.78 2.05 0 2.83L4 21.41c.39.39.9.59 1.41.59.51 0 1.02-.2 1.41-.59l7.78-7.78 2.81-2.81c.8-.78.8-2.07 0-2.86zM5.41 20L4 18.59l7.72-7.72 1.47 1.35L5.41 20z\"/>\n",
              "  </svg>\n",
              "      </button>\n",
              "      \n",
              "  <style>\n",
              "    .colab-df-container {\n",
              "      display:flex;\n",
              "      flex-wrap:wrap;\n",
              "      gap: 12px;\n",
              "    }\n",
              "\n",
              "    .colab-df-convert {\n",
              "      background-color: #E8F0FE;\n",
              "      border: none;\n",
              "      border-radius: 50%;\n",
              "      cursor: pointer;\n",
              "      display: none;\n",
              "      fill: #1967D2;\n",
              "      height: 32px;\n",
              "      padding: 0 0 0 0;\n",
              "      width: 32px;\n",
              "    }\n",
              "\n",
              "    .colab-df-convert:hover {\n",
              "      background-color: #E2EBFA;\n",
              "      box-shadow: 0px 1px 2px rgba(60, 64, 67, 0.3), 0px 1px 3px 1px rgba(60, 64, 67, 0.15);\n",
              "      fill: #174EA6;\n",
              "    }\n",
              "\n",
              "    [theme=dark] .colab-df-convert {\n",
              "      background-color: #3B4455;\n",
              "      fill: #D2E3FC;\n",
              "    }\n",
              "\n",
              "    [theme=dark] .colab-df-convert:hover {\n",
              "      background-color: #434B5C;\n",
              "      box-shadow: 0px 1px 3px 1px rgba(0, 0, 0, 0.15);\n",
              "      filter: drop-shadow(0px 1px 2px rgba(0, 0, 0, 0.3));\n",
              "      fill: #FFFFFF;\n",
              "    }\n",
              "  </style>\n",
              "\n",
              "      <script>\n",
              "        const buttonEl =\n",
              "          document.querySelector('#df-41db1ca5-69a9-4de6-a740-9ce02d780f51 button.colab-df-convert');\n",
              "        buttonEl.style.display =\n",
              "          google.colab.kernel.accessAllowed ? 'block' : 'none';\n",
              "\n",
              "        async function convertToInteractive(key) {\n",
              "          const element = document.querySelector('#df-41db1ca5-69a9-4de6-a740-9ce02d780f51');\n",
              "          const dataTable =\n",
              "            await google.colab.kernel.invokeFunction('convertToInteractive',\n",
              "                                                     [key], {});\n",
              "          if (!dataTable) return;\n",
              "\n",
              "          const docLinkHtml = 'Like what you see? Visit the ' +\n",
              "            '<a target=\"_blank\" href=https://colab.research.google.com/notebooks/data_table.ipynb>data table notebook</a>'\n",
              "            + ' to learn more about interactive tables.';\n",
              "          element.innerHTML = '';\n",
              "          dataTable['output_type'] = 'display_data';\n",
              "          await google.colab.output.renderOutput(dataTable, element);\n",
              "          const docLink = document.createElement('div');\n",
              "          docLink.innerHTML = docLinkHtml;\n",
              "          element.appendChild(docLink);\n",
              "        }\n",
              "      </script>\n",
              "    </div>\n",
              "  </div>\n",
              "  "
            ]
          },
          "metadata": {},
          "execution_count": 11
        }
      ]
    },
    {
      "cell_type": "code",
      "source": [
        "df_participants.to_json('participants_distinct.json', orient='records')"
      ],
      "metadata": {
        "id": "GTkpzj0KfNCp"
      },
      "execution_count": 13,
      "outputs": []
    },
    {
      "cell_type": "code",
      "source": [
        "df_companies = pd.read_csv(FILE_LINKS['companies'], sep=';')"
      ],
      "metadata": {
        "id": "508GD3ngfZK5"
      },
      "execution_count": 15,
      "outputs": []
    },
    {
      "cell_type": "code",
      "source": [
        "df_companies.to_json('companies.json', orient='records')"
      ],
      "metadata": {
        "id": "zLc-PLvffaGl"
      },
      "execution_count": 16,
      "outputs": []
    },
    {
      "cell_type": "code",
      "source": [
        "df_purchases = pd.read_csv(FILE_LINKS['purchases'], sep=';')\n",
        "df_purchases.rename(columns = {'price':'start_price'}, inplace = True )"
      ],
      "metadata": {
        "id": "AenkTvz5fabw"
      },
      "execution_count": 17,
      "outputs": []
    },
    {
      "cell_type": "code",
      "source": [
        "df_purchases.to_json('purchases.json', orient='records')"
      ],
      "metadata": {
        "id": "jqBYDUO1fvCg"
      },
      "execution_count": 18,
      "outputs": []
    }
  ],
  "metadata": {
    "colab": {
      "provenance": []
    },
    "kernelspec": {
      "display_name": "Python 3",
      "name": "python3"
    },
    "language_info": {
      "name": "python"
    }
  },
  "nbformat": 4,
  "nbformat_minor": 0
}